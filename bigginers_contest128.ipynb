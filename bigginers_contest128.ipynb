{
 "cells": [
  {
   "cell_type": "code",
   "execution_count": 9,
   "metadata": {},
   "outputs": [
    {
     "name": "stdout",
     "output_type": "stream",
     "text": [
      "32 21\n",
      "58\n"
     ]
    }
   ],
   "source": [
    "#A問題\n",
    "A,B=map(int, input().split())\n",
    "A_piece = (A * 3) + B\n",
    "ApplePie = A_piece//2\n",
    "print(ApplePie)\n"
   ]
  },
  {
   "cell_type": "code",
   "execution_count": 10,
   "metadata": {},
   "outputs": [
    {
     "name": "stdout",
     "output_type": "stream",
     "text": [
      "1\n",
      "1 2\n"
     ]
    }
   ],
   "source": [
    "#B問題\n",
    "N = int(input())\n",
    "R_list = []\n",
    "for i in range(N):\n",
    "    S, P=map(str, input().split())\n",
    "    R_list.append([S , int(P)*-1 , i+1])\n",
    "R_list.sort()\n",
    "for i in range(N):\n",
    "    R_list[i].append(i+1)\n",
    "R_list.sort(key=lambda x:x[3])\n",
    "for i in range(N):\n",
    "    print(R_list[i][2])\n",
    "\n",
    "    "
   ]
  },
  {
   "cell_type": "code",
   "execution_count": null,
   "metadata": {},
   "outputs": [],
   "source": [
    "#C問題\n",
    "from itertools import combinations\n",
    "N, M=map(int, input().split())\n",
    "swich_list =[]\n",
    "for i in range(M):\n",
    "    swich_list.append(list(map(int, input().split())))\n",
    "binary_list = []\n",
    "for i in range(2**max(swich_list[:][0])):\n",
    "    binary_list.append(bin(i))\n",
    "p_list = list(map(int, input().split()))\n",
    "for i in range(M):\n",
    "    if p_list[i] == 0:\n",
    "        for j in range(2**swich_list[i][0]):\n",
    "            for k in range(swich_list[i][0]):\n",
    "                if binary_list in bin(j>>k)\n",
    "            if binary_list in bin(j):\n",
    "                binary_list.remove(bin(j))"
   ]
  },
  {
   "cell_type": "code",
   "execution_count": 21,
   "metadata": {},
   "outputs": [
    {
     "name": "stdout",
     "output_type": "stream",
     "text": [
      "2\n",
      "['0000', '0001', '0110', '0111', '1000', '1001', '1110', '1111', '0010', '0011', '0110', '0111', '1010', '1011', '1110', '1111', '0001', '0011', '0100', '0110', '1001', '1011', '1100', '1110']\n",
      "['0101', '1101']\n"
     ]
    }
   ],
   "source": [
    "#C問題\n",
    "x=4\n",
    "y=3\n",
    "s_list =[[2,1,2],[1,2],[2,1,3]]\n",
    "p_list =[1,0,0]\n",
    "bit_list =[]\n",
    "for i in range(2**4):\n",
    "    bit_list.append(bin(i)[2:].zfill(4))\n",
    "print(s_list[2][0])\n",
    "delete_list = []\n",
    "for i in range(3):\n",
    "    count = 0\n",
    "    for j in range(2**4):\n",
    "        count = 0\n",
    "        for k in range(s_list[i][0]):\n",
    "            if int(bit_list[j][s_list[i][k+1]]) == 1:\n",
    "                count +=1\n",
    "        if count % 2 != p_list[i]:\n",
    "            delete_list.append(bit_list[j])\n",
    "print(delete_list)\n",
    "bit_list =[i for i in bit_list if i not in delete_list]\n",
    "print(bit_list)\n",
    "    \n",
    "            "
   ]
  },
  {
   "cell_type": "code",
   "execution_count": 25,
   "metadata": {},
   "outputs": [
    {
     "name": "stdout",
     "output_type": "stream",
     "text": [
      "2 2\n",
      "2 1 2\n",
      "1 2\n",
      "0 1\n",
      "1\n"
     ]
    }
   ],
   "source": [
    "#C問題\n",
    "N, M=map(int, input().split())\n",
    "\n",
    "s_list=[]\n",
    "for i in range(M):\n",
    "    s_list.append(list(map(int, input().split())))\n",
    "    \n",
    "bit_list =[]\n",
    "for i in range(2**N):\n",
    "    bit_list.append(bin(i)[2:].zfill(N))\n",
    "p_list = list(map(int, input().split()))\n",
    "\n",
    "delete_list = []\n",
    "for i in range(M):\n",
    "    count = 0\n",
    "    for j in range(2**N):\n",
    "        count = 0\n",
    "        for k in range(s_list[i][0]):\n",
    "            if int(bit_list[j][s_list[i][k+1]-1]) == 1:\n",
    "                count +=1\n",
    "        if count % 2 != p_list[i]:\n",
    "            delete_list.append(bit_list[j])\n",
    "bit_list =[i for i in bit_list if i not in delete_list]\n",
    "print(len(bit_list))"
   ]
  },
  {
   "cell_type": "code",
   "execution_count": 47,
   "metadata": {},
   "outputs": [
    {
     "name": "stdout",
     "output_type": "stream",
     "text": [
      "[0, 1, 2, 3, 4, 5, 6, 7, 8, 9, 10, 11, 12, 13, 14, 15]\n",
      "[0, 3, 5, 6, 8, 9, 10, 11, 12, 13, 14, 15]\n"
     ]
    }
   ],
   "source": [
    "#C問題\n",
    "N, M=map(int, input().split())\n",
    "swich_list =[]\n",
    "for i in range(M):\n",
    "    swich_list.append(list(map(int, input().split())))\n",
    "bit_list = []\n",
    "for i in range(2**N):\n",
    "    bit_list.append(i)\n",
    "print(bit_list)\n",
    "p_list = list(map(int, input().split()))\n",
    "\n",
    "#一致の確認\n",
    "for i in range(M):\n",
    "    for j in range(2 ** swich_list[i][0]):\n",
    "        SwichToBit = 0\n",
    "        count = 0\n",
    "        for k in range(swich_list[i][0]):\n",
    "            SwichToBit += 2 ** (swich_list[i][k+1] - 1)\n",
    "            count += (j>>k & 1)\n",
    "            print(j>>k)\n",
    "        if count % 2 == p_list[i]:\n",
    "            bit_list = [k for k in bit_list if bin(k) == k.startwith(bin(SwichToBit))]\n",
    "print(len(bit_list))        \n",
    "        \n",
    "    \n",
    "            "
   ]
  },
  {
   "cell_type": "code",
   "execution_count": 51,
   "metadata": {},
   "outputs": [
    {
     "name": "stdout",
     "output_type": "stream",
     "text": [
      "[1, 2, 3, 4, 5, 1, 2, 3, 4, 5]\n",
      "[2, 3, 4, 5]\n"
     ]
    }
   ],
   "source": [
    "a = [1,2,3,4,5]\n",
    "print(a)\n",
    "print(a[1:])"
   ]
  },
  {
   "cell_type": "code",
   "execution_count": null,
   "metadata": {},
   "outputs": [],
   "source": [
    "#D問題\n",
    "N, M=map(int, input().split())\n",
    "V = input().split()\n",
    "V_i = [int(i) for i in V]\n",
    "\n",
    "ans = 0\n",
    "for i in range(M+1):\n",
    "    for j in range(M+1-i):\n",
    "        if i+j >N:\n",
    "            break;\n",
    "        num = 0\n",
    "        dump_num = []\n",
    "        for k in range(i):\n",
    "            num += V_i[k]\n",
    "            dump_num.append(V_i[k])\n",
    "        for k in range(N-1,N-j-1,-1):\n",
    "            num+=V_i[k]\n",
    "            dump_num.append(V_i[k])\n",
    "        dump_num.sort()\n",
    "        for k in range(M-i-j):\n",
    "            if k >= len(dump_num):\n",
    "                break;\n",
    "            if dump_num[k] >= 0:\n",
    "                break;\n",
    "            num -= dump_num[k]\n",
    "        \n",
    "        if num >= ans:\n",
    "            ans = num\n",
    "print(ans)\n",
    "            "
   ]
  },
  {
   "cell_type": "code",
   "execution_count": null,
   "metadata": {},
   "outputs": [],
   "source": [
    "#E問題\n"
   ]
  },
  {
   "cell_type": "code",
   "execution_count": null,
   "metadata": {},
   "outputs": [],
   "source": [
    "#F問題\n"
   ]
  },
  {
   "cell_type": "code",
   "execution_count": 23,
   "metadata": {},
   "outputs": [
    {
     "data": {
      "text/plain": [
       "'0100'"
      ]
     },
     "execution_count": 23,
     "metadata": {},
     "output_type": "execute_result"
    }
   ],
   "source": [
    "bin(2** 2)[2:].zfill(2**2)"
   ]
  },
  {
   "cell_type": "code",
   "execution_count": 1,
   "metadata": {},
   "outputs": [
    {
     "name": "stdout",
     "output_type": "stream",
     "text": [
      "0\n",
      "1\n",
      "0\n",
      "1\n",
      "0\n",
      "1\n",
      "0\n",
      "1\n",
      "0\n",
      "1\n"
     ]
    }
   ],
   "source": [
    "for i in range(5):\n",
    "    for j in range(5):\n",
    "        if j >=2:\n",
    "            break;\n",
    "        print(j)"
   ]
  },
  {
   "cell_type": "code",
   "execution_count": 5,
   "metadata": {},
   "outputs": [
    {
     "name": "stdout",
     "output_type": "stream",
     "text": [
      "[5, 4, 3, 2, 1]\n",
      "[1, 2, 3, 4, 5]\n"
     ]
    }
   ],
   "source": [
    "list =[]\n",
    "for i in range(5,0,-1):\n",
    "    list.append(i)\n",
    "print(list)\n",
    "list.sort()\n",
    "print(list)    "
   ]
  },
  {
   "cell_type": "code",
   "execution_count": 7,
   "metadata": {},
   "outputs": [
    {
     "name": "stdout",
     "output_type": "stream",
     "text": [
      "5\n",
      "4\n",
      "3\n",
      "2\n"
     ]
    }
   ],
   "source": [
    "for i in range(5,1,-1):\n",
    "    print(i)"
   ]
  },
  {
   "cell_type": "code",
   "execution_count": null,
   "metadata": {},
   "outputs": [],
   "source": []
  }
 ],
 "metadata": {
  "kernelspec": {
   "display_name": "Python 3",
   "language": "python",
   "name": "python3"
  },
  "language_info": {
   "codemirror_mode": {
    "name": "ipython",
    "version": 3
   },
   "file_extension": ".py",
   "mimetype": "text/x-python",
   "name": "python",
   "nbconvert_exporter": "python",
   "pygments_lexer": "ipython3",
   "version": "3.6.4"
  }
 },
 "nbformat": 4,
 "nbformat_minor": 2
}
