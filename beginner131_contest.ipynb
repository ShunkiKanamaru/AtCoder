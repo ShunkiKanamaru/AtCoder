{
 "cells": [
  {
   "cell_type": "code",
   "execution_count": null,
   "metadata": {},
   "outputs": [],
   "source": [
    "#A問題\n",
    "S = str(input())\n",
    "ans = \"Good\"\n",
    "for i in range(len(S)-1):\n",
    "    if S[i] ==S[i+1]:\n",
    "        ans = \"Bad\"\n",
    "        break;\n",
    "print(ans)"
   ]
  },
  {
   "cell_type": "code",
   "execution_count": null,
   "metadata": {},
   "outputs": [],
   "source": [
    "#B問題\n",
    "N, L =map(int,input().split())\n",
    "apple =  [i+1 for i in range(N)]\n",
    "apple_taste = [L+i-1 for i in apple]\n",
    "delete = min(apple_taste)\n",
    "if delete < 0:\n",
    "    abs_apple_taste = [abs(L+i-1) for i in apple]\n",
    "    delete = -min(abs_apple_taste)\n",
    "apple_taste.remove(delete)\n",
    "print(sum(apple_taste))"
   ]
  },
  {
   "cell_type": "code",
   "execution_count": null,
   "metadata": {},
   "outputs": [],
   "source": [
    "#C問題\n",
    "import fractions\n",
    "A, B, C, D = map(int,input().split())\n",
    "if A%C ==0:\n",
    "    count = 1 + B//C - A//C\n",
    "else:\n",
    "    count = B//C - A//C\n",
    "if A%D ==0:\n",
    "    count = 1 + B//D - A//D + count\n",
    "else:\n",
    "    count = B//D - A//D + count\n",
    "lcm = C*D//fractions.gcd(C,D)\n",
    "if A%lcm ==0:\n",
    "    count = count - (1 + B//lcm - A//lcm)\n",
    "else:\n",
    "    count = count - (B//lcm - A//lcm)\n",
    "print(B-A+1-count)"
   ]
  },
  {
   "cell_type": "code",
   "execution_count": 19,
   "metadata": {},
   "outputs": [
    {
     "name": "stdout",
     "output_type": "stream",
     "text": [
      "3\n",
      "4 7\n",
      "2 9\n",
      "8 5\n"
     ]
    },
    {
     "ename": "NameError",
     "evalue": "name 'work' is not defined",
     "output_type": "error",
     "traceback": [
      "\u001b[0;31m---------------------------------------------------------------------------\u001b[0m",
      "\u001b[0;31mNameError\u001b[0m                                 Traceback (most recent call last)",
      "\u001b[0;32m<ipython-input-19-900b7fead3d3>\u001b[0m in \u001b[0;36m<module>\u001b[0;34m()\u001b[0m\n\u001b[1;32m      5\u001b[0m     \u001b[0mA\u001b[0m\u001b[0;34m,\u001b[0m\u001b[0mB\u001b[0m \u001b[0;34m=\u001b[0m \u001b[0mmap\u001b[0m\u001b[0;34m(\u001b[0m\u001b[0mint\u001b[0m\u001b[0;34m,\u001b[0m\u001b[0minput\u001b[0m\u001b[0;34m(\u001b[0m\u001b[0;34m)\u001b[0m\u001b[0;34m.\u001b[0m\u001b[0msplit\u001b[0m\u001b[0;34m(\u001b[0m\u001b[0;34m)\u001b[0m\u001b[0;34m)\u001b[0m\u001b[0;34m\u001b[0m\u001b[0m\n\u001b[1;32m      6\u001b[0m     \u001b[0mwork_list\u001b[0m\u001b[0;34m.\u001b[0m\u001b[0mappend\u001b[0m\u001b[0;34m(\u001b[0m\u001b[0;34m[\u001b[0m\u001b[0mA\u001b[0m\u001b[0;34m,\u001b[0m \u001b[0mB\u001b[0m\u001b[0;34m]\u001b[0m\u001b[0;34m)\u001b[0m\u001b[0;34m\u001b[0m\u001b[0m\n\u001b[0;32m----> 7\u001b[0;31m \u001b[0mwork\u001b[0m\u001b[0;34m.\u001b[0m\u001b[0msort\u001b[0m\u001b[0;34m(\u001b[0m\u001b[0mkey\u001b[0m\u001b[0;34m=\u001b[0m\u001b[0;32mlambda\u001b[0m \u001b[0mx\u001b[0m\u001b[0;34m:\u001b[0m\u001b[0mx\u001b[0m\u001b[0;34m[\u001b[0m\u001b[0;36m1\u001b[0m\u001b[0;34m]\u001b[0m\u001b[0;34m)\u001b[0m\u001b[0;34m\u001b[0m\u001b[0m\n\u001b[0m",
      "\u001b[0;31mNameError\u001b[0m: name 'work' is not defined"
     ]
    }
   ],
   "source": [
    "#D問題\n",
    "N = int(input())\n",
    "work_list =[]\n",
    "for i in range(N):\n",
    "    A,B = map(int,input().split())\n",
    "    work_list.append([A, B])\n",
    "work_list.sort(key=lambda x:x[1])\n",
    "count = 0\n",
    "ans = \"Yes\"\n",
    "for i in range(N):\n",
    "    count = work_list[i][0]+count\n",
    "    if count > work_list[i][1]:\n",
    "        ans = \"No\"\n",
    "        break;\n",
    "print(ans)"
   ]
  },
  {
   "cell_type": "code",
   "execution_count": null,
   "metadata": {},
   "outputs": [],
   "source": [
    "#D問題\n",
    "'''\n",
    "締め切りが早いものから片付ける\n",
    "\n",
    "'''\n",
    "\n"
   ]
  },
  {
   "cell_type": "code",
   "execution_count": null,
   "metadata": {},
   "outputs": [],
   "source": [
    "#E問題\n",
    "'''\n",
    "完全グラフは距離が全て1のもの\n",
    "最大の数はスターグラフで一つの頂点を中心に他の組が出ているもの(N-1)(N-2)/2\n",
    "\n",
    "'''\n",
    "N, K = map(int,input().split())\n",
    "mx = (N-1)*(N-2)/2\n",
    "graph = []\n",
    "if mx < K:\n",
    "    print(-1)\n",
    "else:\n",
    "    for i in range(N-1):\n",
    "        star_graph = [i+1 , N]\n",
    "        graph.append(star_graph)\n",
    "    band_num = int(mx - K)\n",
    "    edge = []\n",
    "    for i in range(N-1):\n",
    "        for j in range(i):\n",
    "            edge.append([i+1,j+1])\n",
    "    for i in range(band_num):\n",
    "        graph.append(edge[i])\n",
    "    M = len(graph)\n",
    "    print(M)\n",
    "    for i in range(len(graph)):\n",
    "        print(\"{0} {1}\".format(graph[i][0],graph[i][1]))\n",
    "    \n",
    "        \n",
    "    \n"
   ]
  },
  {
   "cell_type": "code",
   "execution_count": null,
   "metadata": {},
   "outputs": [],
   "source": [
    "#F問題\n",
    "N = int(input())\n",
    "point = []\n",
    "x_cor = []\n",
    "y_cor = []\n",
    "for i in range(N):\n",
    "    x,y = map(int,input().split())\n",
    "    point.append((x,y))\n",
    "    x_cor.append(x)\n",
    "    y_cor.append(y)\n",
    "if len(point)<= 2:\n",
    "    print(0)\n",
    "else:\n",
    "    count = 0\n",
    "    \n",
    "    "
   ]
  },
  {
   "cell_type": "code",
   "execution_count": 20,
   "metadata": {},
   "outputs": [
    {
     "name": "stdout",
     "output_type": "stream",
     "text": [
      "[[4, 7], [2, 9], [8, 5]]\n",
      "[[8, 5], [4, 7], [2, 9]]\n"
     ]
    }
   ],
   "source": [
    "print(work_list)\n",
    "work_list.sort(key=lambda x:x[1])\n",
    "print(work_list)"
   ]
  },
  {
   "cell_type": "code",
   "execution_count": null,
   "metadata": {},
   "outputs": [],
   "source": [
    "#F問題"
   ]
  },
  {
   "cell_type": "code",
   "execution_count": null,
   "metadata": {},
   "outputs": [],
   "source": [
    "N, M =map(int,input().split())"
   ]
  },
  {
   "cell_type": "code",
   "execution_count": 8,
   "metadata": {},
   "outputs": [
    {
     "name": "stdout",
     "output_type": "stream",
     "text": [
      "[1, 2, 3, 4]\n",
      "[1, 3, 4]\n"
     ]
    }
   ],
   "source": []
  },
  {
   "cell_type": "code",
   "execution_count": null,
   "metadata": {},
   "outputs": [],
   "source": []
  },
  {
   "cell_type": "code",
   "execution_count": 9,
   "metadata": {},
   "outputs": [
    {
     "name": "stdout",
     "output_type": "stream",
     "text": [
      "3\n",
      "1 1\n",
      "1 5\n"
     ]
    },
    {
     "ename": "IndexError",
     "evalue": "list assignment index out of range",
     "output_type": "error",
     "traceback": [
      "\u001b[0;31m---------------------------------------------------------------------------\u001b[0m",
      "\u001b[0;31mIndexError\u001b[0m                                Traceback (most recent call last)",
      "\u001b[0;32m<ipython-input-9-0e90e67611d2>\u001b[0m in \u001b[0;36m<module>\u001b[0;34m()\u001b[0m\n\u001b[1;32m      7\u001b[0m     \u001b[0my\u001b[0m\u001b[0;34m+=\u001b[0m\u001b[0mN\u001b[0m\u001b[0;34m\u001b[0m\u001b[0m\n\u001b[1;32m      8\u001b[0m     \u001b[0mgraph\u001b[0m\u001b[0;34m[\u001b[0m\u001b[0mx\u001b[0m\u001b[0;34m]\u001b[0m \u001b[0;34m=\u001b[0m \u001b[0my\u001b[0m\u001b[0;34m\u001b[0m\u001b[0m\n\u001b[0;32m----> 9\u001b[0;31m     \u001b[0mgraph\u001b[0m\u001b[0;34m[\u001b[0m\u001b[0my\u001b[0m\u001b[0;34m]\u001b[0m \u001b[0;34m=\u001b[0m \u001b[0mx\u001b[0m\u001b[0;34m\u001b[0m\u001b[0m\n\u001b[0m\u001b[1;32m     10\u001b[0m \u001b[0;34m\u001b[0m\u001b[0m\n\u001b[1;32m     11\u001b[0m \u001b[0;34m\u001b[0m\u001b[0m\n",
      "\u001b[0;31mIndexError\u001b[0m: list assignment index out of range"
     ]
    }
   ],
   "source": [
    "N = int(input())\n",
    "X, Y = [None] * N, [None] * N\n",
    "graph =[None]*(2*N)\n",
    "for i in range(N):\n",
    "    x, y = map(int, input().split())\n",
    "    X[i], Y[i] = x, y\n",
    "    y+=N\n",
    "    graph[x] = y\n",
    "    graph[y] = x\n",
    "    \n",
    "    "
   ]
  },
  {
   "cell_type": "code",
   "execution_count": 6,
   "metadata": {},
   "outputs": [
    {
     "data": {
      "text/plain": [
       "[1, 5, 5]"
      ]
     },
     "execution_count": 6,
     "metadata": {},
     "output_type": "execute_result"
    }
   ],
   "source": [
    "X"
   ]
  },
  {
   "cell_type": "code",
   "execution_count": 7,
   "metadata": {},
   "outputs": [
    {
     "data": {
      "text/plain": [
       "[1, 1, 5]"
      ]
     },
     "execution_count": 7,
     "metadata": {},
     "output_type": "execute_result"
    }
   ],
   "source": [
    "Y"
   ]
  },
  {
   "cell_type": "code",
   "execution_count": null,
   "metadata": {},
   "outputs": [],
   "source": []
  },
  {
   "cell_type": "code",
   "execution_count": null,
   "metadata": {},
   "outputs": [],
   "source": []
  },
  {
   "cell_type": "code",
   "execution_count": null,
   "metadata": {},
   "outputs": [],
   "source": []
  },
  {
   "cell_type": "code",
   "execution_count": null,
   "metadata": {},
   "outputs": [],
   "source": []
  },
  {
   "cell_type": "code",
   "execution_count": 10,
   "metadata": {},
   "outputs": [
    {
     "name": "stdout",
     "output_type": "stream",
     "text": [
      "5\n",
      "4\n",
      "3\n"
     ]
    }
   ],
   "source": [
    "for i in range(5,2,-1):\n",
    "    print(i)"
   ]
  },
  {
   "cell_type": "code",
   "execution_count": 13,
   "metadata": {},
   "outputs": [
    {
     "data": {
      "text/plain": [
       "4"
      ]
     },
     "execution_count": 13,
     "metadata": {},
     "output_type": "execute_result"
    }
   ],
   "source": [
    "9//2"
   ]
  },
  {
   "cell_type": "code",
   "execution_count": null,
   "metadata": {},
   "outputs": [],
   "source": [
    "#C問題\n",
    "A, B, C, D = map(int,input().split())\n",
    "num_list = [i for i in range(B,A-1,-1)]\n",
    "num = [A,B]\n",
    "delete = [C, D]\n",
    "while C>=B:\n",
    "    C = C*2\n",
    "    delete.append(C)\n",
    "while D >=D:\n",
    "    D =D*2\n",
    "    delete.append(D)\n",
    "\n",
    "count = 0\n",
    "for i in num_list:\n",
    "    if i%C !=0 and i%D !=0:\n",
    "        count +=1\n",
    "print(count)"
   ]
  }
 ],
 "metadata": {
  "kernelspec": {
   "display_name": "Python 3",
   "language": "python",
   "name": "python3"
  },
  "language_info": {
   "codemirror_mode": {
    "name": "ipython",
    "version": 3
   },
   "file_extension": ".py",
   "mimetype": "text/x-python",
   "name": "python",
   "nbconvert_exporter": "python",
   "pygments_lexer": "ipython3",
   "version": "3.6.4"
  }
 },
 "nbformat": 4,
 "nbformat_minor": 2
}
