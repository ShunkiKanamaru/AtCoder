{
 "cells": [
  {
   "cell_type": "code",
   "execution_count": 4,
   "metadata": {},
   "outputs": [
    {
     "name": "stdout",
     "output_type": "stream",
     "text": [
      "1 2 3\n"
     ]
    }
   ],
   "source": [
    "#A問題\n",
    "time_list = input().split()\n",
    "time_list = [int(i) for i in time_list]\n",
    "time_list.sort()\n",
    "print(time_list[0]+time_list[1])\n"
   ]
  },
  {
   "cell_type": "code",
   "execution_count": 6,
   "metadata": {},
   "outputs": [
    {
     "name": "stdout",
     "output_type": "stream",
     "text": [
      "1\n"
     ]
    }
   ],
   "source": [
    "#B問題\n",
    "N = int(input())\n",
    "W_list = input().split()\n",
    "W_list = [int(i) for i in W_list]\n",
    "ans_list = []\n",
    "for i in range(len(W_list)):\n",
    "    ans = abs(sum(W_list[:i+1]) - sum(W_list[i+1:]))\n",
    "    ans_list.append(ans)\n",
    "print(min(ans_list))"
   ]
  },
  {
   "cell_type": "code",
   "execution_count": 40,
   "metadata": {},
   "outputs": [
    {
     "name": "stdout",
     "output_type": "stream",
     "text": [
      "6 1\n",
      "3\n",
      "[3, 3]\n",
      "4\n"
     ]
    }
   ],
   "source": [
    "#C問題\n",
    "def fib(n):\n",
    "    a, b = 0, 1\n",
    "    for i in range(n-1):\n",
    "        a, b = b, a + b\n",
    "    return b\n",
    "\n",
    "N, M = map(int,input().split())\n",
    "break_step = []\n",
    "step_list = [i for i in range(N+1)]\n",
    "for i in range(M):\n",
    "    break_step.append(int(input()))\n",
    "count_list = []\n",
    "count = 0\n",
    "for i in break_step:\n",
    "    count = i - count\n",
    "    count_list.append(count)\n",
    "    count = i + 1\n",
    "count = N - count + 1\n",
    "count_list.append(count)\n",
    "ans = 1\n",
    "for i in count_list:\n",
    "    ans = ans * fib(i)\n",
    "if 0 in  count_list:\n",
    "    print(0)\n",
    "else:\n",
    "    print(ans%1000000007)"
   ]
  },
  {
   "cell_type": "code",
   "execution_count": 37,
   "metadata": {},
   "outputs": [
    {
     "name": "stdout",
     "output_type": "stream",
     "text": [
      "True\n"
     ]
    }
   ],
   "source": [
    "#D問題\n",
    "H, W = map(int,input().split())\n",
    "field =[]\n",
    "for i in range(H):\n",
    "    field.append(input().split())\n",
    "block = []\n",
    "for i in range(H):\n",
    "    block +=[[j for j in range(len(field[i][0])) if field[i][0][j] == \"#\"]]\n",
    "for i in range(H):\n",
    "    if len(block[i]) == 0:\n",
    "        replace = W\n",
    "        field[i][0].replace(\".\", W)\n",
    "    for j in range(len(block[i])+1):\n",
    "        if block[j] != 0:\n",
    "    \n",
    "    \n"
   ]
  },
  {
   "cell_type": "code",
   "execution_count": null,
   "metadata": {},
   "outputs": [],
   "source": [
    "1・・・1\n",
    "2・・・12・・・1\n",
    "3・・・123・・・2\n",
    "4・・・1234・・・3\n",
    "5・・・12345・・・5\n",
    "6・・・123456・・・8"
   ]
  },
  {
   "cell_type": "code",
   "execution_count": null,
   "metadata": {},
   "outputs": [],
   "source": [
    "1~10\n",
    "37\n",
    "012\n",
    "456\n",
    "8910\n",
    "break_num - count = 3-1\n",
    "count"
   ]
  },
  {
   "cell_type": "code",
   "execution_count": 35,
   "metadata": {},
   "outputs": [
    {
     "name": "stdout",
     "output_type": "stream",
     "text": [
      "3\n"
     ]
    }
   ],
   "source": [
    "def fib(n):\n",
    "    a, b = 0, 1\n",
    "    for i in range(n-1):\n",
    "        a, b = b, a + b\n",
    "    return b\n",
    "print(fib(4))\n",
    "# print([fib(i) for i in range(10)])  \n",
    "# [1, 1, 2, 3, 5, 8, 13, 21, 34, 55]"
   ]
  },
  {
   "cell_type": "code",
   "execution_count": 45,
   "metadata": {},
   "outputs": [
    {
     "name": "stdout",
     "output_type": "stream",
     "text": [
      "37001.5\n"
     ]
    }
   ],
   "source": [
    "list = [i for i in range(1,74003,1)]\n",
    "print(sum(list)/74002)\n"
   ]
  },
  {
   "cell_type": "code",
   "execution_count": 6,
   "metadata": {},
   "outputs": [
    {
     "name": "stdout",
     "output_type": "stream",
     "text": [
      "3\n"
     ]
    }
   ],
   "source": [
    "list = [i for i in range(5)]\n",
    "print(len(list[0:3]))"
   ]
  },
  {
   "cell_type": "code",
   "execution_count": null,
   "metadata": {},
   "outputs": [],
   "source": []
  }
 ],
 "metadata": {
  "kernelspec": {
   "display_name": "Python 3",
   "language": "python",
   "name": "python3"
  },
  "language_info": {
   "codemirror_mode": {
    "name": "ipython",
    "version": 3
   },
   "file_extension": ".py",
   "mimetype": "text/x-python",
   "name": "python",
   "nbconvert_exporter": "python",
   "pygments_lexer": "ipython3",
   "version": "3.6.4"
  }
 },
 "nbformat": 4,
 "nbformat_minor": 2
}
