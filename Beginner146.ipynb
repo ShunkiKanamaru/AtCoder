{
 "cells": [
  {
   "cell_type": "code",
   "execution_count": null,
   "metadata": {},
   "outputs": [],
   "source": [
    "#input\n",
    "A,B = map(int,input().split())\n",
    "N = int(input())\n",
    "#list化\n",
    "A = list(map(int,input().split()))\n",
    "#sort\n",
    "A.sort()\n",
    "\n"
   ]
  },
  {
   "cell_type": "code",
   "execution_count": 3,
   "metadata": {},
   "outputs": [
    {
     "data": {
      "text/plain": [
       "3"
      ]
     },
     "execution_count": 3,
     "metadata": {},
     "output_type": "execute_result"
    }
   ],
   "source": [
    "#A問題\n",
    "S = input()\n",
    "if S == \"SUN\":\n",
    "  print(\"7\")\n",
    "elif S == \"MON\":\n",
    "  print(\"6\")\n",
    "elif S == \"TUE\":\n",
    "  print(\"5\")\n",
    "elif S == \"WED\":\n",
    "  print(\"4\")\n",
    "elif S == \"THU\":\n",
    "  print(\"3\")\n",
    "elif S == \"FRI\":\n",
    "  print(\"2\")\n",
    "else:\n",
    "  print(\"1\")\n"
   ]
  },
  {
   "cell_type": "code",
   "execution_count": 3,
   "metadata": {},
   "outputs": [
    {
     "name": "stdout",
     "output_type": "stream",
     "text": [
      "a\n",
      "b\n"
     ]
    }
   ],
   "source": [
    "#B問題\n",
    "S = \"a\"+\"b\"\n",
    "for i in S:\n",
    "    print(i)"
   ]
  },
  {
   "cell_type": "code",
   "execution_count": null,
   "metadata": {},
   "outputs": [],
   "source": [
    "#C問題\n",
    "A,B,X = map(int,input().split())\n",
    "ans = 0\n",
    "for i in range(1,19):\n",
    "  X_B = X - i*B\n",
    "  if X_B < 0:\n",
    "    break\n",
    "  candidate =  X_B // A\n",
    "  if len(str(candidate)) > i:\n",
    "    continue\n",
    "  if candidate > ans:\n",
    "    ans = candidate\n",
    "if ans >10**9:\n",
    "  print(10**9)\n",
    "else:\n",
    "  print(ans)\n",
    "  "
   ]
  },
  {
   "cell_type": "code",
   "execution_count": 8,
   "metadata": {},
   "outputs": [
    {
     "data": {
      "text/plain": [
       "[1, 2]"
      ]
     },
     "execution_count": 8,
     "metadata": {},
     "output_type": "execute_result"
    }
   ],
   "source": [
    "#D問題\n",
    "group = {}\n",
    "group[1] = [1]\n",
    "group[1].append(2)\n",
    "group[1]"
   ]
  },
  {
   "cell_type": "code",
   "execution_count": null,
   "metadata": {},
   "outputs": [],
   "source": []
  },
  {
   "cell_type": "code",
   "execution_count": null,
   "metadata": {},
   "outputs": [],
   "source": []
  },
  {
   "cell_type": "code",
   "execution_count": null,
   "metadata": {},
   "outputs": [],
   "source": []
  },
  {
   "cell_type": "code",
   "execution_count": null,
   "metadata": {},
   "outputs": [],
   "source": [
    "#二項定理を早く解くためのもの\n",
    "from operator import mul\n",
    "from functools import reduce\n",
    "def ncr(n, r):\n",
    "    r = min(r, n - r)\n",
    "    if r == 0: return 1;\n",
    "    if r == 1: return n;\n",
    "    numerator = [n - r + i + 1 for i in range(r)]\n",
    "    denominator  = [i + 1 for i in range(r)]\n",
    "    for p in range(2, r + 1):\n",
    "        pivot = denominator[p - 1]\n",
    "        if pivot > 1:\n",
    "            offset = (n - r) % p\n",
    "            for k in range(p - 1, r, p):\n",
    "                numerator[k - offset] //= pivot\n",
    "                denominator[k] //= pivot\n",
    "    result = 1\n",
    "    for k in range(r):\n",
    "        if numerator[k] > 1: \n",
    "            result *= numerator[k]\n",
    "    return result%(10**9+7)\n",
    "\n",
    "x, y = map(int, input().split())\n",
    "if (y+x)%3 != 0 or y > 2*x or x > 2*y:\n",
    "  print(\"0\")\n",
    "else:\n",
    "  n = (y+x)//3\n",
    "  r = (n-abs(x-y))//2\n",
    "  a = ncr(n,r)\n",
    "  print(a)"
   ]
  },
  {
   "cell_type": "code",
   "execution_count": null,
   "metadata": {},
   "outputs": [],
   "source": [
    "#E問題"
   ]
  }
 ],
 "metadata": {
  "kernelspec": {
   "display_name": "Python 3",
   "language": "python",
   "name": "python3"
  },
  "language_info": {
   "codemirror_mode": {
    "name": "ipython",
    "version": 3
   },
   "file_extension": ".py",
   "mimetype": "text/x-python",
   "name": "python",
   "nbconvert_exporter": "python",
   "pygments_lexer": "ipython3",
   "version": "3.6.4"
  }
 },
 "nbformat": 4,
 "nbformat_minor": 2
}
