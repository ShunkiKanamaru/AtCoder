{
 "cells": [
  {
   "cell_type": "code",
   "execution_count": null,
   "metadata": {},
   "outputs": [],
   "source": [
    "#A問題\n",
    "A,B = map(int,input().split())\n",
    "if A >=10 or B >= 10:\n",
    "  print(-1)\n",
    "else:\n",
    "  print(A*B)"
   ]
  },
  {
   "cell_type": "code",
   "execution_count": null,
   "metadata": {},
   "outputs": [],
   "source": [
    "#B問題\n",
    "N = int(input())\n",
    "flag = 0\n",
    "for i in range(1,10,1):\n",
    "  if N % i == 0 and N/i < 10:\n",
    "    print(\"YES\")\n",
    "    flag = 1\n",
    "if flag == 0:\n",
    "  print(\"NO\")"
   ]
  },
  {
   "cell_type": "code",
   "execution_count": null,
   "metadata": {},
   "outputs": [],
   "source": [
    "#C問題\n",
    "N = int(input())\n",
    "def make_divisors(n):\n",
    "    divisors = []\n",
    "    for i in range(1, int(n**0.5)+1):\n",
    "        if n % i == 0:\n",
    "            divisors.append(i+ n//i)\n",
    "    return divisors\n",
    "ans = min(make_divisors(N)) -2\n",
    "print(ans)"
   ]
  },
  {
   "cell_type": "code",
   "execution_count": 7,
   "metadata": {},
   "outputs": [
    {
     "data": {
      "text/plain": [
       "0"
      ]
     },
     "execution_count": 7,
     "metadata": {},
     "output_type": "execute_result"
    }
   ],
   "source": [
    "#D問題"
   ]
  },
  {
   "cell_type": "code",
   "execution_count": 15,
   "metadata": {},
   "outputs": [
    {
     "data": {
      "text/plain": [
       "2"
      ]
     },
     "execution_count": 15,
     "metadata": {},
     "output_type": "execute_result"
    }
   ],
   "source": [
    "#E問題\n",
    "N,K = map(int,input().split())\n",
    "A = list(map(int,input().split()))\n",
    "A.sort()\n",
    "F = list(map(int,input().split()))\n",
    "F.sort(reverse = True)\n",
    "A_F = [A[i]*F[i] for i in range(N)]\n",
    "for i in range(K):\n",
    "  max_num = A_F.index(max(A_F))\n",
    "    \n",
    "  if max_num == 0:\n",
    "    break\n",
    "  A[max_num] -=1\n",
    "  A_F[max_num] = A[max_num]*F[max_num]\n",
    "print(A)\n",
    "print(A_F[max_num])\n",
    "  "
   ]
  },
  {
   "cell_type": "code",
   "execution_count": null,
   "metadata": {},
   "outputs": [],
   "source": []
  }
 ],
 "metadata": {
  "kernelspec": {
   "display_name": "Python 3",
   "language": "python",
   "name": "python3"
  },
  "language_info": {
   "codemirror_mode": {
    "name": "ipython",
    "version": 3
   },
   "file_extension": ".py",
   "mimetype": "text/x-python",
   "name": "python",
   "nbconvert_exporter": "python",
   "pygments_lexer": "ipython3",
   "version": "3.6.4"
  }
 },
 "nbformat": 4,
 "nbformat_minor": 2
}
