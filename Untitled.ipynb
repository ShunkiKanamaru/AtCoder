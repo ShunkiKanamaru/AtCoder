{
 "cells": [
  {
   "cell_type": "code",
   "execution_count": 19,
   "metadata": {},
   "outputs": [
    {
     "data": {
      "text/plain": [
       "dict_items([('<pad>', 0), ('<start>', 1), ('<end>', 2), ('0', 3), ('1', 4), ('2', 5), ('3', 6), ('4', 7), ('5', 8), ('6', 9), ('7', 10), ('8', 11), ('9', 12), (' ', 13), (\"'\", 14), ('.', 15)])"
      ]
     },
     "execution_count": 19,
     "metadata": {},
     "output_type": "execute_result"
    }
   ],
   "source": [
    "#文字に空白とダッシュを追加したい\n",
    "character_list = [str(i) for i in range(10)]\n",
    "character_list += [' ']\n",
    "character_list +=[\"'\"]\n",
    "character_list +=[\".\"]\n",
    "character_list +=[\"/\"]\n",
    "character_list +=[\"yy\"]\n",
    "character_list +=[\"mm\"]\n",
    "character_list +=[\"dd\"]\n",
    "\n",
    "\n",
    "\n",
    "\n",
    "# 文字 -> id\n",
    "tokenizer = {'<pad>': 0, '<start>': 1, '<end>': 2}\n",
    "tokenizer.update({\n",
    "    char: token + len(tokenizer)\n",
    "    for char, token in zip(character_list, range(len(character_list)))})\n",
    "tokenizer.items()"
   ]
  },
  {
   "cell_type": "code",
   "execution_count": 89,
   "metadata": {},
   "outputs": [
    {
     "name": "stdout",
     "output_type": "stream",
     "text": [
      "[{'char': \"'\", 'xmin': 31, 'ymin': 135, 'xmax': 44, 'ymax': 152}, {'char': '9', 'xmin': 51, 'ymin': 134, 'xmax': 75, 'ymax': 168}, {'char': '2', 'xmin': 78, 'ymin': 134, 'xmax': 101, 'ymax': 169}, {'char': 'yy', 'xmin': 109, 'ymin': 135, 'xmax': 129, 'ymax': 169}, {'char': '1', 'xmin': 138, 'ymin': 134, 'xmax': 151, 'ymax': 169}, {'char': '0', 'xmin': 163, 'ymin': 134, 'xmax': 186, 'ymax': 165}, {'char': 'mm', 'xmin': 195, 'ymin': 134, 'xmax': 218, 'ymax': 170}, {'char': '2', 'xmin': 223, 'ymin': 132, 'xmax': 246, 'ymax': 166}, {'char': '9', 'xmin': 251, 'ymin': 134, 'xmax': 273, 'ymax': 164}, {'char': 'dd', 'xmin': 281, 'ymin': 132, 'xmax': 305, 'ymax': 165}]\n",
      "10\n",
      "92 10 29\n"
     ]
    }
   ],
   "source": [
    "import json\n",
    "# f = open('/Users/kanamarushunki/fujifilm_compe/input/train_anns/train_id0174_no0041.json', 'r')\n",
    "f = open('/Users/kanamarushunki/fujifilm_compe/input/train_anns/train_id0172_no0005.json', 'r')\n",
    "jsonData = json.load(f)\n",
    "type(jsonData)\n",
    "\n",
    "jsonData.keys()\n",
    "print(jsonData[\"bboxes\"])\n",
    "print(len(jsonData[\"bboxes\"]))\n",
    "print(jsonData[\"label\"])"
   ]
  },
  {
   "cell_type": "code",
   "execution_count": 90,
   "metadata": {},
   "outputs": [
    {
     "name": "stdout",
     "output_type": "stream",
     "text": [
      "3\n",
      "7\n",
      "-1\n"
     ]
    }
   ],
   "source": [
    "for i in range(len(jsonData[\"bboxes\"])):\n",
    "    if jsonData[\"bboxes\"][i][\"char\"] == \"'\":\n",
    "        yy_num = jsonData[\"bboxes\"][i+1][\"char\"] +jsonData[\"bboxes\"][i+2][\"char\"]\n",
    "        label_num = jsonData[\"label\"].find(yy_num) -1\n",
    "        if label_num !=-1:\n",
    "            jsonData[\"label\"] =jsonData[\"label\"][:label_num] + \"'\" + jsonData[\"label\"][label_num+1:]\n",
    "        else:\n",
    "            jsonData[\"label\"] = \"'\" + jsonData[\"label\"]\n",
    "\n",
    "    if jsonData[\"bboxes\"][i][\"char\"] == \".\":\n",
    "        label_num = jsonData[\"label\"].find(\" \")\n",
    "        jsonData[\"label\"] =jsonData[\"label\"][:label_num] + \".\" + jsonData[\"label\"][label_num+1:]\n",
    "    if jsonData[\"bboxes\"][i][\"char\"] == \"/\":\n",
    "        label_num = jsonData[\"label\"].find(\" \")\n",
    "        jsonData[\"label\"] =jsonData[\"label\"][:label_num] + \"/\" + jsonData[\"label\"][label_num+1:]\n",
    "    if jsonData[\"bboxes\"][i][\"char\"] == \"yy\" or  jsonData[\"bboxes\"][i][\"char\"] == \"mm\" or  jsonData[\"bboxes\"][i][\"char\"] == \"dd\":\n",
    "        label_num = jsonData[\"label\"].find(\" \")\n",
    "        if label_num != -1: \n",
    "            jsonData[\"label\"] =jsonData[\"label\"][:label_num] + jsonData[\"bboxes\"][i][\"char\"] + jsonData[\"label\"][label_num+1:]\n",
    "\n"
   ]
  },
  {
   "cell_type": "code",
   "execution_count": 93,
   "metadata": {},
   "outputs": [],
   "source": [
    "fw = open('/Users/kanamarushunki/fujifilm_compe/input/train_anns/train_id0172_no0005_make.json','w')\n",
    "    #ココ重要！！\n",
    "    # json.dump関数でファイルに書き込む\n",
    "json.dump(jsonData, fw)"
   ]
  },
  {
   "cell_type": "code",
   "execution_count": 153,
   "metadata": {},
   "outputs": [],
   "source": [
    "#ラベルに\"'\", \".\" \"/\", の追加をして新しいファイルに保存する\n",
    "import json\n",
    "import os\n",
    "# os.mkdir(\"/Users/kanamarushunki/fujifilm_compe/input/train_anns_maked\")\n",
    "# f = open('/Users/kanamarushunki/fujifilm_compe/input/train_anns/train_id0174_no0041.json', 'r')\n",
    "f = open('/Users/kanamarushunki/fujifilm_compe/input/train_anns/train_id0172_no0005.json', 'r')\n",
    "jsonData = json.load(f)\n",
    "for i in range(len(jsonData[\"bboxes\"])):\n",
    "    if jsonData[\"bboxes\"][i][\"char\"] == \"'\":\n",
    "        yy_num = jsonData[\"bboxes\"][i+1][\"char\"] +jsonData[\"bboxes\"][i+2][\"char\"]\n",
    "        label_num = jsonData[\"label\"].find(yy_num) -1\n",
    "        if label_num !=-1:\n",
    "            jsonData[\"label\"] =jsonData[\"label\"][:label_num] + \"'\" + jsonData[\"label\"][label_num+1:]\n",
    "        else:\n",
    "            jsonData[\"label\"] = \"'\" + jsonData[\"label\"]\n",
    "\n",
    "    if jsonData[\"bboxes\"][i][\"char\"] == \".\":\n",
    "        label_num = jsonData[\"label\"].find(\" \")\n",
    "        jsonData[\"label\"] =jsonData[\"label\"][:label_num] + \".\" + jsonData[\"label\"][label_num+1:]\n",
    "    if jsonData[\"bboxes\"][i][\"char\"] == \"/\":\n",
    "        label_num = jsonData[\"label\"].find(\" \")\n",
    "        jsonData[\"label\"] =jsonData[\"label\"][:label_num] + \"/\" + jsonData[\"label\"][label_num+1:]\n",
    "    if jsonData[\"bboxes\"][i][\"char\"] == \"yy\" or  jsonData[\"bboxes\"][i][\"char\"] == \"mm\" or  jsonData[\"bboxes\"][i][\"char\"] == \"dd\":\n",
    "        label_num = jsonData[\"label\"].find(\" \")\n",
    "        if label_num != -1: \n",
    "            jsonData[\"label\"] =jsonData[\"label\"][:label_num] + jsonData[\"bboxes\"][i][\"char\"] + jsonData[\"label\"][label_num+1:]\n",
    "fw = open('/Users/kanamarushunki/fujifilm_compe/input/train_anns/train_id0172_no0005_make.json','w')\n",
    "json.dump(jsonData, fw)"
   ]
  },
  {
   "cell_type": "code",
   "execution_count": 96,
   "metadata": {},
   "outputs": [],
   "source": [
    "import os\n",
    "\n"
   ]
  },
  {
   "cell_type": "code",
   "execution_count": 95,
   "metadata": {},
   "outputs": [],
   "source": [
    "fw = open('/Users/kanamarushunki/fujifilm_compe/input/train_anns_maked/train_id0172_no0005.json','w')\n",
    "json.dump(jsonData, fw)\n"
   ]
  },
  {
   "cell_type": "code",
   "execution_count": 99,
   "metadata": {},
   "outputs": [
    {
     "name": "stdout",
     "output_type": "stream",
     "text": [
      "[1, 2, 3, 4, 5, 6, 7, 8, 9]\n",
      "[2, 3, 4, 5, 6, 7, 8, 9]\n",
      "[100, 3, 4, 5, 6, 7, 8, 9]\n"
     ]
    }
   ],
   "source": [
    "list =[1,2,3,4,5,6,7,8,9]\n",
    "print(list)\n",
    "list.pop(0)\n",
    "print(list)\n",
    "list[0] = 100\n",
    "print(list)"
   ]
  },
  {
   "cell_type": "code",
   "execution_count": 100,
   "metadata": {},
   "outputs": [
    {
     "name": "stdout",
     "output_type": "stream",
     "text": [
      "0\n",
      "1\n",
      "2\n"
     ]
    }
   ],
   "source": [
    "for i in range(3):\n",
    "    print(i)"
   ]
  },
  {
   "cell_type": "code",
   "execution_count": 103,
   "metadata": {},
   "outputs": [],
   "source": [
    "from pathlib import Path\n",
    "json_path_list = sorted(Path('/Users/kanamarushunki/fujifilm_compe/input/train_anns').glob('*.json'))"
   ]
  },
  {
   "cell_type": "code",
   "execution_count": 107,
   "metadata": {},
   "outputs": [
    {
     "name": "stdout",
     "output_type": "stream",
     "text": [
      "[PosixPath('/Users/kanamarushunki/fujifilm_compe/input/train_anns/train_id0003_no0031.json'), PosixPath('/Users/kanamarushunki/fujifilm_compe/input/train_anns/train_id0003_no0032.json'), PosixPath('/Users/kanamarushunki/fujifilm_compe/input/train_anns/train_id0003_no0033.json'), PosixPath('/Users/kanamarushunki/fujifilm_compe/input/train_anns/train_id0003_no0034.json'), PosixPath('/Users/kanamarushunki/fujifilm_compe/input/train_anns/train_id0003_no0035.json')]\n"
     ]
    },
    {
     "data": {
      "text/plain": [
       "PosixPath('/Users/kanamarushunki/fujifilm_compe/input/train_anns/train_id0003_no0031.json')"
      ]
     },
     "execution_count": 107,
     "metadata": {},
     "output_type": "execute_result"
    }
   ],
   "source": [
    "type(json_path_list)\n",
    "print(json_path_list[:5])\n",
    "json_path_list"
   ]
  },
  {
   "cell_type": "code",
   "execution_count": 111,
   "metadata": {},
   "outputs": [],
   "source": [
    "f = open(json_path_list[0],'r')\n",
    "jsonData = json.load(f)\n"
   ]
  },
  {
   "cell_type": "code",
   "execution_count": 128,
   "metadata": {},
   "outputs": [
    {
     "data": {
      "text/plain": [
       "'train_id0003_no0031.json'"
      ]
     },
     "execution_count": 128,
     "metadata": {},
     "output_type": "execute_result"
    }
   ],
   "source": [
    "json_path_list[0].name"
   ]
  },
  {
   "cell_type": "code",
   "execution_count": 62,
   "metadata": {},
   "outputs": [],
   "source": [
    "import json\n",
    "import os\n",
    "# os.mkdir(\"/Users/kanamarushunki/fujifilm_compe/input/train_anns_maked\")\n",
    "anns_path_list = sorted(Path('/Users/kanamarushunki/fujifilm_compe/input/train_anns').glob('*.json'))\n",
    "for j in range(len(anns_path_list)):\n",
    "    file_name = anns_path_list[j].name\n",
    "    f = open(anns_path_list[j],'r')\n",
    "    jsonData = json.load(f)\n",
    "    for i in range(len(jsonData[\"bboxes\"])):\n",
    "        if jsonData[\"bboxes\"][i][\"char\"] == \"'\":\n",
    "            yy_num = jsonData[\"bboxes\"][i+1][\"char\"] +jsonData[\"bboxes\"][i+2][\"char\"]\n",
    "            label_num = jsonData[\"label\"].find(yy_num) -1\n",
    "            if label_num !=-1:\n",
    "                jsonData[\"label\"] =jsonData[\"label\"][:label_num] + \"'\" + jsonData[\"label\"][label_num+1:]\n",
    "            else:\n",
    "                jsonData[\"label\"] = \"'\" + jsonData[\"label\"]\n",
    "\n",
    "        if jsonData[\"bboxes\"][i][\"char\"] == \".\":\n",
    "            label_num = jsonData[\"label\"].find(\" \")\n",
    "            jsonData[\"label\"] =jsonData[\"label\"][:label_num] + '.' + jsonData[\"label\"][label_num+1:]\n",
    "        if jsonData[\"bboxes\"][i][\"char\"] == \"/\":\n",
    "            label_num = jsonData[\"label\"].find(\" \")\n",
    "            jsonData[\"label\"] =jsonData[\"label\"][:label_num] + \"/\" + jsonData[\"label\"][label_num+1:]\n",
    "        if jsonData[\"bboxes\"][i][\"char\"] == \"yy\" or  jsonData[\"bboxes\"][i][\"char\"] == \"mm\" or  jsonData[\"bboxes\"][i][\"char\"] == \"dd\":\n",
    "            label_num = jsonData[\"label\"].find(\" \")\n",
    "            if label_num != -1: \n",
    "                jsonData[\"label\"] =jsonData[\"label\"][:label_num] + jsonData[\"bboxes\"][i][\"char\"] + jsonData[\"label\"][label_num+1:]\n",
    "    file_path =\"/Users/kanamarushunki/fujifilm_compe/input/train_anns_maked/\"+ file_name\n",
    "    with open(file_path, 'w') as fw:\n",
    "        json.dump(jsonData, fw)\n",
    "# file_path ='/Users/kanamarushunki/fujifilm_compe/input/train_anns_maked/test.json'\n",
    "# fw = open(file_path, 'w')\n",
    "# json.dump(jsonData, fw)\n",
    "# print(jsonData)"
   ]
  },
  {
   "cell_type": "code",
   "execution_count": 41,
   "metadata": {},
   "outputs": [
    {
     "name": "stdout",
     "output_type": "stream",
     "text": [
      "{'bboxes': [{'char': '2', 'xmin': 91, 'ymin': 181, 'xmax': 114, 'ymax': 213}, {'char': '0', 'xmin': 119, 'ymin': 181, 'xmax': 143, 'ymax': 212}, {'char': '0', 'xmin': 145, 'ymin': 181, 'xmax': 171, 'ymax': 210}, {'char': '7', 'xmin': 174, 'ymin': 180, 'xmax': 198, 'ymax': 212}, {'char': '.', 'xmin': 201, 'ymin': 203, 'xmax': 208, 'ymax': 212}, {'char': '0', 'xmin': 212, 'ymin': 181, 'xmax': 236, 'ymax': 212}, {'char': '6', 'xmin': 242, 'ymin': 180, 'xmax': 265, 'ymax': 213}, {'char': '.', 'xmin': 268, 'ymin': 201, 'xmax': 276, 'ymax': 211}, {'char': '0', 'xmin': 280, 'ymin': 179, 'xmax': 304, 'ymax': 211}, {'char': '3', 'xmin': 309, 'ymin': 180, 'xmax': 332, 'ymax': 211}], 'label': '2007 06 03'}\n"
     ]
    }
   ],
   "source": [
    " f = open(anns_path_list[6161],'r')\n",
    "jsonData = json.load(f)\n",
    "print(jsonData)"
   ]
  },
  {
   "cell_type": "code",
   "execution_count": 135,
   "metadata": {},
   "outputs": [
    {
     "name": "stdout",
     "output_type": "stream",
     "text": [
      "/Users/kanamarushunki/fujifilm_compe/input/train_anns_makedtrain_id0003_no0032.json\n"
     ]
    }
   ],
   "source": [
    "file_name = anns_path_list[1].name\n",
    "file_path = \"/Users/kanamarushunki/fujifilm_compe/input/train_anns_maked\"+file_name\n",
    "print(file_path)"
   ]
  },
  {
   "cell_type": "code",
   "execution_count": 138,
   "metadata": {},
   "outputs": [
    {
     "name": "stdout",
     "output_type": "stream",
     "text": [
      "train_id0003_no0032\n"
     ]
    }
   ],
   "source": [
    "file_name = anns_path_list[1].stem\n",
    "print(file_name)"
   ]
  },
  {
   "cell_type": "code",
   "execution_count": 20,
   "metadata": {},
   "outputs": [],
   "source": [
    "def load_image(path):\n",
    "    image = Image.open(path)\n",
    "    file_name = path.stem\n",
    "    count = 0\n",
    "    enhancer_fn_list = [\n",
    "      ImageEnhance.Brightness, ImageEnhance.Color, ImageEnhance.Contrast,\n",
    "      ImageEnhance.Sharpness]\n",
    "    for enhancer_fn in enhancer_fn_list:\n",
    "        count += 1\n",
    "        enhancer = enhancer_fn(image)\n",
    "        image = enhancer.enhance(np.random.uniform(0.5, 1.5))\n",
    "        file_path =\"/Users/kanamarushunki/fujifilm_compe/input/train_images_maked/\"+file_name+\"_\"+str(count)+\".jpg\"\n",
    "        image.save(file_path)\n",
    "    return"
   ]
  },
  {
   "cell_type": "code",
   "execution_count": 21,
   "metadata": {},
   "outputs": [],
   "source": [
    "from PIL import Image, ImageEnhance\n",
    "import numpy as np\n",
    "from pathlib import Path\n",
    "# os.mkdir = (\"/Users/kanamarushunki/fujifilm_compe/input/train_images_maked\")\n",
    "image_path_list = sorted(Path('/Users/kanamarushunki/fujifilm_compe/input/train_images').glob('*.jpg'))\n",
    "for i in range(len(image_path_list[:7])):\n",
    "    file_name = image_path_list[i].stem\n",
    "    load_image(image_path_list[i])\n",
    "#     file_path =\"/Users/kanamarushunki/fujifilm_compe/input/train_images_maked/\"+file_name+\"_\"+str(i)+\".jpg\"\n",
    "#     image.save(file_path)"
   ]
  },
  {
   "cell_type": "code",
   "execution_count": 165,
   "metadata": {},
   "outputs": [
    {
     "ename": "TypeError",
     "evalue": "'str' object is not callable",
     "output_type": "error",
     "traceback": [
      "\u001b[0;31m---------------------------------------------------------------------------\u001b[0m",
      "\u001b[0;31mTypeError\u001b[0m                                 Traceback (most recent call last)",
      "\u001b[0;32m<ipython-input-165-9555cdd4f7aa>\u001b[0m in \u001b[0;36m<module>\u001b[0;34m()\u001b[0m\n\u001b[1;32m      1\u001b[0m \u001b[0;32mimport\u001b[0m \u001b[0mos\u001b[0m\u001b[0;34m\u001b[0m\u001b[0m\n\u001b[0;32m----> 2\u001b[0;31m \u001b[0mos\u001b[0m\u001b[0;34m.\u001b[0m\u001b[0mmkdir\u001b[0m\u001b[0;34m(\u001b[0m\u001b[0;34m'Users/kanamarushunki/fujifilm_compe/input/train_images_maked'\u001b[0m\u001b[0;34m)\u001b[0m\u001b[0;34m\u001b[0m\u001b[0m\n\u001b[0m",
      "\u001b[0;31mTypeError\u001b[0m: 'str' object is not callable"
     ]
    }
   ],
   "source": [
    "import os\n",
    "os.mkdir('Users/kanamarushunki/fujifilm_compe/input/train_images_maked')"
   ]
  },
  {
   "cell_type": "code",
   "execution_count": 1,
   "metadata": {},
   "outputs": [],
   "source": [
    "import os\n",
    "os.mkdir('/Users/kanamarushunki/fujifilm_compe/input/train_images_maked/')\n"
   ]
  },
  {
   "cell_type": "code",
   "execution_count": 174,
   "metadata": {},
   "outputs": [
    {
     "name": "stdout",
     "output_type": "stream",
     "text": [
      "/Users/kanamarushunki/fujifilm_compe/input/train_images_maked\n"
     ]
    }
   ],
   "source": []
  },
  {
   "cell_type": "code",
   "execution_count": null,
   "metadata": {},
   "outputs": [],
   "source": []
  }
 ],
 "metadata": {
  "kernelspec": {
   "display_name": "Python 3",
   "language": "python",
   "name": "python3"
  },
  "language_info": {
   "codemirror_mode": {
    "name": "ipython",
    "version": 3
   },
   "file_extension": ".py",
   "mimetype": "text/x-python",
   "name": "python",
   "nbconvert_exporter": "python",
   "pygments_lexer": "ipython3",
   "version": "3.6.4"
  }
 },
 "nbformat": 4,
 "nbformat_minor": 2
}
