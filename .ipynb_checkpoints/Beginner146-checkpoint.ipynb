{
 "cells": [
  {
   "cell_type": "code",
   "execution_count": null,
   "metadata": {},
   "outputs": [],
   "source": [
    "#input\n",
    "A,B = map(int,input().split())\n",
    "N = int(input())\n",
    "#list化\n",
    "A = list(map(int,input().split()))\n",
    "#sort\n",
    "A.sort()\n",
    "\n"
   ]
  },
  {
   "cell_type": "code",
   "execution_count": 3,
   "metadata": {},
   "outputs": [
    {
     "data": {
      "text/plain": [
       "3"
      ]
     },
     "execution_count": 3,
     "metadata": {},
     "output_type": "execute_result"
    }
   ],
   "source": [
    "#A問題\n",
    "s = \"abcd\"\n",
    "s[len(s)//2:]\n",
    "6//2"
   ]
  },
  {
   "cell_type": "code",
   "execution_count": null,
   "metadata": {},
   "outputs": [],
   "source": [
    "#B問題\n",
    "N = int(input())\n",
    "S = input()\n",
    "if len(S)%2 == 1:\n",
    "  print(\"No\")\n",
    "else:\n",
    "  if S[:len(S)//2] == S[len(S)//2:]:\n",
    "    print(\"Yes\")\n",
    "  else:\n",
    "    print(\"No\")\n"
   ]
  },
  {
   "cell_type": "code",
   "execution_count": null,
   "metadata": {},
   "outputs": [],
   "source": [
    "#C問題\n",
    "import math\n",
    "import itertools\n",
    "\n",
    "N = int(input())\n",
    "x_y_list = [list(map(int,input().split()))for _ in range(N)]\n",
    "distance_list = []\n",
    "for i in range(N):\n",
    "  for j in range(i+1,N,1):\n",
    "    distance = math.sqrt((x_y_list[i][0]-x_y_list[j][0])**2 + \n",
    "                         (x_y_list[i][1]-x_y_list[j][1])**2)\n",
    "    distance_list.append(distance)\n",
    "ans = 0\n",
    "c = list(itertools.combinations(distance_list,N-1))\n",
    "for i in range(len(c)):\n",
    "  ans += sum(c[i])\n",
    "ans = ans/len(c)\n",
    "print(ans)\n"
   ]
  },
  {
   "cell_type": "code",
   "execution_count": null,
   "metadata": {},
   "outputs": [],
   "source": [
    "#D問題\n",
    "#二項定理を早く解くためのもの\n",
    "from operator import mul\n",
    "from functools import reduce\n",
    "def ncr(n, r):\n",
    "    r = min(r, n - r)\n",
    "    if r == 0: return 1;\n",
    "    if r == 1: return n;\n",
    "    numerator = [n - r + i + 1 for i in range(r)]\n",
    "    denominator  = [i + 1 for i in range(r)]\n",
    "    for p in range(2, r + 1):\n",
    "        pivot = denominator[p - 1]\n",
    "        if pivot > 1:\n",
    "            offset = (n - r) % p\n",
    "            for k in range(p - 1, r, p):\n",
    "                numerator[k - offset] //= pivot\n",
    "                denominator[k] //= pivot\n",
    "    result = 1\n",
    "    for k in range(r):\n",
    "        if numerator[k] > 1: \n",
    "            result *= numerator[k]\n",
    "    return result%(10**9+7)\n",
    "\n",
    "x, y = map(int, input().split())\n",
    "if (y+x)%3 != 0 or y > 2*x or x > 2*y:\n",
    "  print(\"0\")\n",
    "else:\n",
    "  n = (y+x)//3\n",
    "  r = (n-abs(x-y))//2\n",
    "  a = ncr(n,r)\n",
    "  print(a)"
   ]
  },
  {
   "cell_type": "code",
   "execution_count": null,
   "metadata": {},
   "outputs": [],
   "source": [
    "#E問題"
   ]
  }
 ],
 "metadata": {
  "kernelspec": {
   "display_name": "Python 3",
   "language": "python",
   "name": "python3"
  },
  "language_info": {
   "codemirror_mode": {
    "name": "ipython",
    "version": 3
   },
   "file_extension": ".py",
   "mimetype": "text/x-python",
   "name": "python",
   "nbconvert_exporter": "python",
   "pygments_lexer": "ipython3",
   "version": "3.6.4"
  }
 },
 "nbformat": 4,
 "nbformat_minor": 2
}
