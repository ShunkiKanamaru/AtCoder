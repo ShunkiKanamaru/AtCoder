{
 "cells": [
  {
   "cell_type": "code",
   "execution_count": null,
   "metadata": {},
   "outputs": [],
   "source": [
    "A, B = map(int,input().split())\n",
    "result =[A+B,A-B,A*B]\n",
    "print(max(result))\n"
   ]
  },
  {
   "cell_type": "code",
   "execution_count": null,
   "metadata": {},
   "outputs": [],
   "source": [
    "K, X = map(int,input().split())\n",
    "result = [i for i in range(X-K+1,X+K,1)]\n",
    "for ans in result:\n",
    "    print(ans, end =\" \")\n"
   ]
  },
  {
   "cell_type": "code",
   "execution_count": null,
   "metadata": {},
   "outputs": [],
   "source": [
    "n = int(input())\n",
    "str_list = [input() for i in range(n)]\n",
    "ans = 0\n",
    "for i in range(n):\n",
    "  for j in range(n-i-1):\n",
    "    count = 0\n",
    "    for k in range(10):\n",
    "      if str_list[i][k] in str_list[j+i+1]:\n",
    "        count +=1\n",
    "      else:\n",
    "        break\n",
    "    if count == 10:\n",
    "      ans +=1\n",
    "print(ans)"
   ]
  },
  {
   "cell_type": "code",
   "execution_count": null,
   "metadata": {},
   "outputs": [],
   "source": [
    "N, M = map(int, input().split())\n",
    "arubaito\n",
    "for i in range(N):\n",
    "    "
   ]
  },
  {
   "cell_type": "code",
   "execution_count": null,
   "metadata": {},
   "outputs": [],
   "source": [
    "from collections import Counter\n",
    "n = int(input())\n",
    "str_list = [input() for i in range(n)]\n",
    "ans = 0\n",
    "for i in range(n):\n",
    "  first = Counter(str_list[i])\n",
    "  for j in range(n-i-1):\n",
    "    second = Counter(str_list[j+i+1])\n",
    "    if first == second:\n",
    "      ans +=1\n",
    "print(ans)"
   ]
  },
  {
   "cell_type": "code",
   "execution_count": null,
   "metadata": {},
   "outputs": [],
   "source": [
    "from collections import Counter\n",
    "import sys\n",
    "input = sys.stdin.readline\n",
    "n = int(input())\n",
    "counter_list = [dict(Counter[i].items()) for i in input()]\n",
    "print(counter_list)\n",
    "ans = 0\n",
    "for i in range(n):\n",
    "  if counter_list[i] in counter_list[i+1:]:\n",
    "    ans +=1\n",
    "print(ans)\n"
   ]
  },
  {
   "cell_type": "code",
   "execution_count": 3,
   "metadata": {},
   "outputs": [
    {
     "name": "stdout",
     "output_type": "stream",
     "text": [
      "[2, 3, 4, 5, 6]\n"
     ]
    }
   ],
   "source": [
    "from collections import Counter\n",
    "import sys\n",
    "\n",
    "input = sys.stdin.readline\n",
    "n = int(input())\n",
    "str_list = [''.join(sorted(input().rstrip())) for i in range(n)]\n",
    "ans = 0\n",
    "for i in range(n-1):\n",
    "  ans += str_list[i+1:].count(str_list[i])\n",
    "print(ans)"
   ]
  },
  {
   "cell_type": "code",
   "execution_count": null,
   "metadata": {},
   "outputs": [],
   "source": [
    "for i in range(100000):\n",
    "    print(\"0 0\""
   ]
  },
  {
   "cell_type": "code",
   "execution_count": null,
   "metadata": {},
   "outputs": [],
   "source": []
  }
 ],
 "metadata": {
  "kernelspec": {
   "display_name": "Python 3",
   "language": "python",
   "name": "python3"
  },
  "language_info": {
   "codemirror_mode": {
    "name": "ipython",
    "version": 3
   },
   "file_extension": ".py",
   "mimetype": "text/x-python",
   "name": "python",
   "nbconvert_exporter": "python",
   "pygments_lexer": "ipython3",
   "version": "3.6.4"
  }
 },
 "nbformat": 4,
 "nbformat_minor": 2
}
