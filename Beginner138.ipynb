{
 "cells": [
  {
   "cell_type": "code",
   "execution_count": null,
   "metadata": {},
   "outputs": [],
   "source": [
    "a = int(input())\n",
    "s = input()\n",
    "if a >=3200:\n",
    "  print(s)\n",
    "else:\n",
    "  print(\"red\")"
   ]
  },
  {
   "cell_type": "code",
   "execution_count": null,
   "metadata": {},
   "outputs": [],
   "source": [
    "N = int(input())\n",
    "num_list = input().split()\n",
    "ans = 0\n",
    "for i in num_list:\n",
    "  x = 1/int(i)\n",
    "  ans = ans + x\n",
    "\n",
    "print(1/ans)"
   ]
  },
  {
   "cell_type": "code",
   "execution_count": null,
   "metadata": {},
   "outputs": [],
   "source": [
    "N = int(input())\n",
    "v = input().split()\n",
    "v_list = [int(i) for i in v]\n",
    "v_list = sorted(v_list, reverse = True)\n",
    "if len(v_list) > N:\n",
    "  v_list = v_list[:N+1]\n",
    "def calc(a, b):\n",
    "  return (a+b)/2\n",
    "for i in range(N):\n",
    "  a = v_list.pop()\n",
    "  b = v_list.pop()\n",
    "  v_list.append(calc(a,b))\n",
    "  if len(v_list) < 2:\n",
    "    break\n",
    "print(v_list[0])"
   ]
  },
  {
   "cell_type": "code",
   "execution_count": null,
   "metadata": {},
   "outputs": [],
   "source": [
    "N, Q = map(int,input().split())\n",
    "tree_list = []\n",
    "count_list = [0]*N\n",
    "\n",
    "def make_tree(a,b):\n",
    "  if len(tree_list) == 0:\n",
    "    tree_list.append([a,b])\n",
    "    tree_list.append([b])\n",
    "  else:\n",
    "    for i in range(len(tree_list)):\n",
    "      if a in tree_list[i]:\n",
    "        tree_list[i].append(b)\n",
    "      if i == len(tree_list)-1:\n",
    "        tree_list.append([b])\n",
    "def count(p,x):\n",
    "  for i in range(len(tree_list)):\n",
    "    if tree_list[i][0] == p:\n",
    "      for i in tree_list[i]:\n",
    "        count_list[i-1] += x \n",
    "for i in range(N-1):\n",
    "  a,b = map(int,input().split())\n",
    "  make_tree(a,b)\n",
    "for i in range(Q):\n",
    "  p,x = map(int,input().split())\n",
    "  count(p,x)\n",
    "count_list = [str(i) for i in count_list]\n",
    "print(\" \".join(count_list))"
   ]
  },
  {
   "cell_type": "code",
   "execution_count": 1,
   "metadata": {},
   "outputs": [
    {
     "name": "stdout",
     "output_type": "stream",
     "text": [
      "5 10\n",
      "1 1\n",
      "1\n"
     ]
    },
    {
     "ename": "ValueError",
     "evalue": "not enough values to unpack (expected 2, got 1)",
     "output_type": "error",
     "traceback": [
      "\u001b[0;31m---------------------------------------------------------------------------\u001b[0m",
      "\u001b[0;31mValueError\u001b[0m                                Traceback (most recent call last)",
      "\u001b[0;32m<ipython-input-1-a435e7bb6927>\u001b[0m in \u001b[0;36m<module>\u001b[0;34m()\u001b[0m\n\u001b[1;32m     21\u001b[0m         \u001b[0mcount_list\u001b[0m\u001b[0;34m[\u001b[0m\u001b[0mi\u001b[0m\u001b[0;34m-\u001b[0m\u001b[0;36m1\u001b[0m\u001b[0;34m]\u001b[0m \u001b[0;34m+=\u001b[0m \u001b[0mx\u001b[0m\u001b[0;34m\u001b[0m\u001b[0m\n\u001b[1;32m     22\u001b[0m \u001b[0;32mfor\u001b[0m \u001b[0mi\u001b[0m \u001b[0;32min\u001b[0m \u001b[0mrange\u001b[0m\u001b[0;34m(\u001b[0m\u001b[0mN\u001b[0m\u001b[0;34m-\u001b[0m\u001b[0;36m1\u001b[0m\u001b[0;34m)\u001b[0m\u001b[0;34m:\u001b[0m\u001b[0;34m\u001b[0m\u001b[0m\n\u001b[0;32m---> 23\u001b[0;31m   \u001b[0ma\u001b[0m\u001b[0;34m,\u001b[0m\u001b[0mb\u001b[0m \u001b[0;34m=\u001b[0m \u001b[0mmap\u001b[0m\u001b[0;34m(\u001b[0m\u001b[0mint\u001b[0m\u001b[0;34m,\u001b[0m\u001b[0minput\u001b[0m\u001b[0;34m(\u001b[0m\u001b[0;34m)\u001b[0m\u001b[0;34m.\u001b[0m\u001b[0msplit\u001b[0m\u001b[0;34m(\u001b[0m\u001b[0;34m)\u001b[0m\u001b[0;34m)\u001b[0m\u001b[0;34m\u001b[0m\u001b[0m\n\u001b[0m\u001b[1;32m     24\u001b[0m   \u001b[0mmake_tree\u001b[0m\u001b[0;34m(\u001b[0m\u001b[0ma\u001b[0m\u001b[0;34m,\u001b[0m\u001b[0mb\u001b[0m\u001b[0;34m)\u001b[0m\u001b[0;34m\u001b[0m\u001b[0m\n\u001b[1;32m     25\u001b[0m \u001b[0;32mfor\u001b[0m \u001b[0mi\u001b[0m \u001b[0;32min\u001b[0m \u001b[0mrange\u001b[0m\u001b[0;34m(\u001b[0m\u001b[0mQ\u001b[0m\u001b[0;34m)\u001b[0m\u001b[0;34m:\u001b[0m\u001b[0;34m\u001b[0m\u001b[0m\n",
      "\u001b[0;31mValueError\u001b[0m: not enough values to unpack (expected 2, got 1)"
     ]
    }
   ],
   "source": [
    "N, Q = map(int,input().split())\n",
    "tree_list = []\n",
    "count_list = [0]*N\n",
    "\n",
    "def make_tree(a,b):\n",
    "  if len(tree_list) == 0:\n",
    "    tree_list.append([a,b])\n",
    "    tree_list.append([b])\n",
    "  else:\n",
    "    for i in range(len(tree_list)):\n",
    "      if a in tree_list[i]:\n",
    "        tree_list[i].append(b)\n",
    "      if i == len(tree_list)-1:\n",
    "        tree_list.append([b])\n",
    "for i in range(N-1):\n",
    "  a,b = map(int,input().split())\n",
    "\n",
    "  make_tree(a,b)\n",
    "for i in range(Q):\n",
    "  p,x = map(int,input().split())\n",
    "  tree_num = tree_list[0].index(p)\n",
    "  count_list = [count_list[i-1] + x for i in tree_list[tree_num]]\n",
    "count_list = [str(i) for i in count_list]\n",
    "print(\" \".join(count_list))\n"
   ]
  },
  {
   "cell_type": "code",
   "execution_count": null,
   "metadata": {},
   "outputs": [],
   "source": [
    "N, Q = map(int,input().split())\n",
    "tree_list = [0]*N\n",
    "for i in range(N-1):\n",
    "  a,b = map(int,input().split())\n",
    "  tree_list[b-1] = a-1\n",
    "\n",
    "count_list = [0]*N  \n",
    "for i in range(Q):\n",
    "  p,x = map(int,input().split())\n",
    "  count_list[p-1] +=x\n",
    "\n",
    "\n",
    "ans = [0]*N\n",
    "for i in range(N):\n",
    "  if i ==0:\n",
    "    ans[i] = count_list[i]\n",
    "  else:\n",
    "    ans[i] = count_list[i] + ans[tree_list[i]]\n",
    "ans = [str(i) for i in ans]\n",
    "print(\" \".join(ans))\n",
    "  "
   ]
  },
  {
   "cell_type": "code",
   "execution_count": null,
   "metadata": {},
   "outputs": [],
   "source": []
  },
  {
   "cell_type": "code",
   "execution_count": 4,
   "metadata": {},
   "outputs": [
    {
     "ename": "ValueError",
     "evalue": "10 is not in list",
     "output_type": "error",
     "traceback": [
      "\u001b[0;31m---------------------------------------------------------------------------\u001b[0m",
      "\u001b[0;31mValueError\u001b[0m                                Traceback (most recent call last)",
      "\u001b[0;32m<ipython-input-4-b5a60ede78d7>\u001b[0m in \u001b[0;36m<module>\u001b[0;34m()\u001b[0m\n\u001b[1;32m      1\u001b[0m \u001b[0mx\u001b[0m \u001b[0;34m=\u001b[0m \u001b[0;34m[\u001b[0m\u001b[0;34m[\u001b[0m\u001b[0;36m1\u001b[0m\u001b[0;34m,\u001b[0m\u001b[0;36m2\u001b[0m\u001b[0;34m,\u001b[0m\u001b[0;36m3\u001b[0m\u001b[0;34m,\u001b[0m\u001b[0;36m4\u001b[0m\u001b[0;34m]\u001b[0m\u001b[0;34m,\u001b[0m\u001b[0;34m[\u001b[0m\u001b[0;36m3\u001b[0m\u001b[0;34m,\u001b[0m\u001b[0;36m4\u001b[0m\u001b[0;34m,\u001b[0m\u001b[0;36m5\u001b[0m\u001b[0;34m,\u001b[0m\u001b[0;36m6\u001b[0m\u001b[0;34m]\u001b[0m\u001b[0;34m,\u001b[0m\u001b[0;34m[\u001b[0m\u001b[0;36m7\u001b[0m\u001b[0;34m,\u001b[0m\u001b[0;36m8\u001b[0m\u001b[0;34m,\u001b[0m\u001b[0;36m9\u001b[0m\u001b[0;34m,\u001b[0m\u001b[0;36m10\u001b[0m\u001b[0;34m]\u001b[0m\u001b[0;34m]\u001b[0m\u001b[0;34m\u001b[0m\u001b[0m\n\u001b[0;32m----> 2\u001b[0;31m \u001b[0mx\u001b[0m\u001b[0;34m.\u001b[0m\u001b[0mindex\u001b[0m\u001b[0;34m(\u001b[0m\u001b[0;36m10\u001b[0m\u001b[0;34m)\u001b[0m\u001b[0;34m\u001b[0m\u001b[0m\n\u001b[0m",
      "\u001b[0;31mValueError\u001b[0m: 10 is not in list"
     ]
    }
   ],
   "source": [
    "x = [[1,2,3,4],[3,4,5,6],[7,8,9,10]]\n",
    "x.index(10)"
   ]
  },
  {
   "cell_type": "code",
   "execution_count": 5,
   "metadata": {},
   "outputs": [
    {
     "data": {
      "text/plain": [
       "5"
      ]
     },
     "execution_count": 5,
     "metadata": {},
     "output_type": "execute_result"
    }
   ],
   "source": [
    "x = [1,3,4,78,9,10]\n",
    "x.index(10)"
   ]
  },
  {
   "cell_type": "code",
   "execution_count": null,
   "metadata": {},
   "outputs": [],
   "source": []
  }
 ],
 "metadata": {
  "kernelspec": {
   "display_name": "Python 3",
   "language": "python",
   "name": "python3"
  },
  "language_info": {
   "codemirror_mode": {
    "name": "ipython",
    "version": 3
   },
   "file_extension": ".py",
   "mimetype": "text/x-python",
   "name": "python",
   "nbconvert_exporter": "python",
   "pygments_lexer": "ipython3",
   "version": "3.6.4"
  }
 },
 "nbformat": 4,
 "nbformat_minor": 2
}
